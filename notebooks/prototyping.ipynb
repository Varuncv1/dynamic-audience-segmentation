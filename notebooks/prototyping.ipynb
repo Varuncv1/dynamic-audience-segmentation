{
 "cells": [
  {
   "cell_type": "markdown",
   "id": "3bdc82b1",
   "metadata": {},
   "source": [
    "## Exploratory Data Cleaning"
   ]
  },
  {
   "cell_type": "code",
   "execution_count": 2,
   "id": "7fc60e33",
   "metadata": {},
   "outputs": [
    {
     "name": "stdout",
     "output_type": "stream",
     "text": [
      "(541909, 8)\n",
      "['InvoiceNo', 'StockCode', 'Description', 'Quantity', 'InvoiceDate', 'UnitPrice', 'CustomerID', 'Country']\n"
     ]
    },
    {
     "data": {
      "text/html": [
       "<div>\n",
       "<style scoped>\n",
       "    .dataframe tbody tr th:only-of-type {\n",
       "        vertical-align: middle;\n",
       "    }\n",
       "\n",
       "    .dataframe tbody tr th {\n",
       "        vertical-align: top;\n",
       "    }\n",
       "\n",
       "    .dataframe thead th {\n",
       "        text-align: right;\n",
       "    }\n",
       "</style>\n",
       "<table border=\"1\" class=\"dataframe\">\n",
       "  <thead>\n",
       "    <tr style=\"text-align: right;\">\n",
       "      <th></th>\n",
       "      <th>InvoiceNo</th>\n",
       "      <th>StockCode</th>\n",
       "      <th>Description</th>\n",
       "      <th>Quantity</th>\n",
       "      <th>InvoiceDate</th>\n",
       "      <th>UnitPrice</th>\n",
       "      <th>CustomerID</th>\n",
       "      <th>Country</th>\n",
       "    </tr>\n",
       "  </thead>\n",
       "  <tbody>\n",
       "    <tr>\n",
       "      <th>0</th>\n",
       "      <td>536365</td>\n",
       "      <td>85123A</td>\n",
       "      <td>WHITE HANGING HEART T-LIGHT HOLDER</td>\n",
       "      <td>6</td>\n",
       "      <td>2010-12-01 08:26:00</td>\n",
       "      <td>2.55</td>\n",
       "      <td>17850.0</td>\n",
       "      <td>United Kingdom</td>\n",
       "    </tr>\n",
       "    <tr>\n",
       "      <th>1</th>\n",
       "      <td>536365</td>\n",
       "      <td>71053</td>\n",
       "      <td>WHITE METAL LANTERN</td>\n",
       "      <td>6</td>\n",
       "      <td>2010-12-01 08:26:00</td>\n",
       "      <td>3.39</td>\n",
       "      <td>17850.0</td>\n",
       "      <td>United Kingdom</td>\n",
       "    </tr>\n",
       "    <tr>\n",
       "      <th>2</th>\n",
       "      <td>536365</td>\n",
       "      <td>84406B</td>\n",
       "      <td>CREAM CUPID HEARTS COAT HANGER</td>\n",
       "      <td>8</td>\n",
       "      <td>2010-12-01 08:26:00</td>\n",
       "      <td>2.75</td>\n",
       "      <td>17850.0</td>\n",
       "      <td>United Kingdom</td>\n",
       "    </tr>\n",
       "    <tr>\n",
       "      <th>3</th>\n",
       "      <td>536365</td>\n",
       "      <td>84029G</td>\n",
       "      <td>KNITTED UNION FLAG HOT WATER BOTTLE</td>\n",
       "      <td>6</td>\n",
       "      <td>2010-12-01 08:26:00</td>\n",
       "      <td>3.39</td>\n",
       "      <td>17850.0</td>\n",
       "      <td>United Kingdom</td>\n",
       "    </tr>\n",
       "    <tr>\n",
       "      <th>4</th>\n",
       "      <td>536365</td>\n",
       "      <td>84029E</td>\n",
       "      <td>RED WOOLLY HOTTIE WHITE HEART.</td>\n",
       "      <td>6</td>\n",
       "      <td>2010-12-01 08:26:00</td>\n",
       "      <td>3.39</td>\n",
       "      <td>17850.0</td>\n",
       "      <td>United Kingdom</td>\n",
       "    </tr>\n",
       "  </tbody>\n",
       "</table>\n",
       "</div>"
      ],
      "text/plain": [
       "  InvoiceNo StockCode                          Description  Quantity  \\\n",
       "0    536365    85123A   WHITE HANGING HEART T-LIGHT HOLDER         6   \n",
       "1    536365     71053                  WHITE METAL LANTERN         6   \n",
       "2    536365    84406B       CREAM CUPID HEARTS COAT HANGER         8   \n",
       "3    536365    84029G  KNITTED UNION FLAG HOT WATER BOTTLE         6   \n",
       "4    536365    84029E       RED WOOLLY HOTTIE WHITE HEART.         6   \n",
       "\n",
       "          InvoiceDate  UnitPrice  CustomerID         Country  \n",
       "0 2010-12-01 08:26:00       2.55     17850.0  United Kingdom  \n",
       "1 2010-12-01 08:26:00       3.39     17850.0  United Kingdom  \n",
       "2 2010-12-01 08:26:00       2.75     17850.0  United Kingdom  \n",
       "3 2010-12-01 08:26:00       3.39     17850.0  United Kingdom  \n",
       "4 2010-12-01 08:26:00       3.39     17850.0  United Kingdom  "
      ]
     },
     "execution_count": 2,
     "metadata": {},
     "output_type": "execute_result"
    }
   ],
   "source": [
    "import pandas as pd\n",
    "\n",
    "# 1. Load the raw Excel\n",
    "df = pd.read_excel(\"/Users/varun/Desktop/dynamic-audience-segmentation/data/raw/Online Retail.xlsx\")\n",
    "\n",
    "# 2. Peek at the data\n",
    "print(df.shape)\n",
    "print(df.columns.tolist())\n",
    "df.head()"
   ]
  },
  {
   "cell_type": "code",
   "execution_count": 3,
   "id": "4c080dae",
   "metadata": {},
   "outputs": [],
   "source": [
    "df = df[(df.Quantity > 0) & (df.UnitPrice > 0)]"
   ]
  },
  {
   "cell_type": "code",
   "execution_count": 4,
   "id": "fa352365",
   "metadata": {},
   "outputs": [],
   "source": [
    "df[\"InvoiceDate\"] = pd.to_datetime(df[\"InvoiceDate\"])"
   ]
  },
  {
   "cell_type": "code",
   "execution_count": 5,
   "id": "68609286",
   "metadata": {},
   "outputs": [],
   "source": [
    "df = df.dropna(subset=[\"CustomerID\"])\n",
    "df[\"CustomerID\"] = df[\"CustomerID\"].astype(int).astype(str)"
   ]
  },
  {
   "cell_type": "code",
   "execution_count": 6,
   "id": "b51809da",
   "metadata": {},
   "outputs": [],
   "source": [
    "df = df.sort_values([\"CustomerID\",\"InvoiceDate\"])\n",
    "df[\"time_diff\"] = df.groupby(\"CustomerID\")[\"InvoiceDate\"] \\\n",
    "                    .diff().dt.total_seconds().div(60)\n",
    "# flag new sessions\n",
    "df[\"new_session\"] = (df[\"time_diff\"] > 30) | df[\"time_diff\"].isna()\n",
    "df[\"session_id\"] = df.groupby(\"CustomerID\")[\"new_session\"] \\\n",
    "                      .cumsum().astype(int).astype(str)"
   ]
  },
  {
   "cell_type": "markdown",
   "id": "992790b3",
   "metadata": {},
   "source": [
    "## Feature Aggregation & Export"
   ]
  },
  {
   "cell_type": "code",
   "execution_count": 7,
   "id": "70ea3360",
   "metadata": {},
   "outputs": [],
   "source": [
    "# Example: compute RFM per session\n",
    "session_agg = df.groupby([\"CustomerID\",\"session_id\"]).agg(\n",
    "    session_start=(\"InvoiceDate\",\"min\"),\n",
    "    session_end=(\"InvoiceDate\",\"max\"),\n",
    "    total_items=(\"Quantity\",\"sum\"),\n",
    "    total_value=(\"UnitPrice\",\"sum\"),\n",
    "    num_products=(\"StockCode\",\"nunique\")\n",
    ").reset_index()\n",
    "\n",
    "# Derive more features\n",
    "session_agg[\"session_duration_mins\"] = (\n",
    "    (session_agg[\"session_end\"] - session_agg[\"session_start\"])\n",
    "    .dt.total_seconds() / 60\n",
    ")\n",
    "session_agg[\"hour_of_day\"] = session_agg[\"session_start\"].dt.hour"
   ]
  },
  {
   "cell_type": "code",
   "execution_count": 9,
   "id": "8d518bf8",
   "metadata": {},
   "outputs": [],
   "source": [
    "session_agg.to_csv(\"/Users/varun/Desktop/dynamic-audience-segmentation/data/processed/sessions.csv\", index=False)"
   ]
  },
  {
   "cell_type": "code",
   "execution_count": 10,
   "id": "86df799d",
   "metadata": {},
   "outputs": [],
   "source": [
    "def stream_batches(df, batch_size=20):\n",
    "    for start in range(0, len(df), batch_size):\n",
    "        yield df.iloc[start:start+batch_size].to_dict(orient=\"records\")\n",
    "\n",
    "def extract_features(sess):\n",
    "    return {\n",
    "        \"total_items\": sess[\"total_items\"],\n",
    "        \"total_value\": sess[\"total_value\"],\n",
    "        \"num_products\": sess[\"num_products\"],\n",
    "        \"session_duration\": sess[\"session_duration_mins\"],\n",
    "        \"hour_of_day\": sess[\"hour_of_day\"]\n",
    "    }"
   ]
  },
  {
   "cell_type": "code",
   "execution_count": 14,
   "id": "18b2eb68",
   "metadata": {},
   "outputs": [],
   "source": [
    "from river import cluster as river_cluster\n",
    "from sklearn.cluster import MiniBatchKMeans"
   ]
  },
  {
   "cell_type": "code",
   "execution_count": 15,
   "id": "b23c57d8",
   "metadata": {},
   "outputs": [
    {
     "ename": "NameError",
     "evalue": "name 'cluster' is not defined",
     "output_type": "error",
     "traceback": [
      "\u001b[0;31m---------------------------------------------------------------------------\u001b[0m",
      "\u001b[0;31mNameError\u001b[0m                                 Traceback (most recent call last)",
      "Cell \u001b[0;32mIn[15], line 1\u001b[0m\n\u001b[0;32m----> 1\u001b[0m river_kmeans \u001b[38;5;241m=\u001b[39m cluster\u001b[38;5;241m.\u001b[39mKMeans(n_clusters\u001b[38;5;241m=\u001b[39m\u001b[38;5;241m5\u001b[39m)\n\u001b[1;32m      2\u001b[0m minibatch_kmeans \u001b[38;5;241m=\u001b[39m MiniBatchKMeans(n_clusters\u001b[38;5;241m=\u001b[39m\u001b[38;5;241m5\u001b[39m, batch_size\u001b[38;5;241m=\u001b[39m\u001b[38;5;241m100\u001b[39m, random_state\u001b[38;5;241m=\u001b[39m\u001b[38;5;241m42\u001b[39m)\n",
      "\u001b[0;31mNameError\u001b[0m: name 'cluster' is not defined"
     ]
    }
   ],
   "source": [
    "river_kmeans = cluster.KMeans(n_clusters=5)\n",
    "minibatch_kmeans = MiniBatchKMeans(n_clusters=5, batch_size=100, random_state=42)"
   ]
  },
  {
   "cell_type": "code",
   "execution_count": null,
   "id": "1fe91a52",
   "metadata": {},
   "outputs": [],
   "source": [
    "history_centers_river = []\n",
    "history_centers_sklearn = []\n",
    "\n",
    "for batch in stream_batches(session_agg, batch_size=20):\n",
    "    for sess in batch:\n",
    "        feats = extract_features(sess)\n",
    "        \n",
    "        # River KMeans\n",
    "        river_kmeans.learn_one(feats)\n",
    "        \n",
    "        # MiniBatchKMeans\n",
    "        X = np.array([list(feats.values())])\n",
    "        minibatch_kmeans.partial_fit(X)\n",
    "        \n",
    "    # Record centroids over time\n",
    "    history_centers_river.append(river_kmeans.centers)\n",
    "    history_centers_sklearn.append(minibatch_kmeans.cluster_centers_)"
   ]
  },
  {
   "cell_type": "code",
   "execution_count": null,
   "id": "4db2943c",
   "metadata": {},
   "outputs": [],
   "source": [
    "def plot_centroids(history, title):\n",
    "    for t, centers in enumerate(history):\n",
    "        arr = np.array(centers)\n",
    "        plt.scatter(arr[:, 0], arr[:, 1], label=f\"t={t}\")\n",
    "    plt.title(title)\n",
    "    plt.legend()\n",
    "    plt.xlabel(\"Dimension 1\")\n",
    "    plt.ylabel(\"Dimension 2\")\n",
    "    plt.show()\n",
    "\n",
    "# Plot drift for each model\n",
    "plot_centroids(history_centers_river, \"River KMeans Centroid Drift\")\n",
    "plot_centroids(history_centers_sklearn, \"MiniBatchKMeans Centroid Drift\")"
   ]
  },
  {
   "cell_type": "code",
   "execution_count": 13,
   "id": "a42ec712",
   "metadata": {},
   "outputs": [
    {
     "name": "stdout",
     "output_type": "stream",
     "text": [
      "Collecting river\n",
      "  Downloading river-0.22.0-cp312-cp312-macosx_11_0_arm64.whl.metadata (9.0 kB)\n",
      "Requirement already satisfied: numpy>=1.23.0 in /opt/anaconda3/lib/python3.12/site-packages (from river) (1.26.4)\n",
      "Collecting pandas<3.0.0,>=2.2.3 (from river)\n",
      "  Downloading pandas-2.2.3-cp312-cp312-macosx_11_0_arm64.whl.metadata (89 kB)\n",
      "Collecting scipy<2.0.0,>=1.14.1 (from river)\n",
      "  Downloading scipy-1.15.3-cp312-cp312-macosx_14_0_arm64.whl.metadata (61 kB)\n",
      "Requirement already satisfied: python-dateutil>=2.8.2 in /opt/anaconda3/lib/python3.12/site-packages (from pandas<3.0.0,>=2.2.3->river) (2.9.0.post0)\n",
      "Requirement already satisfied: pytz>=2020.1 in /opt/anaconda3/lib/python3.12/site-packages (from pandas<3.0.0,>=2.2.3->river) (2024.1)\n",
      "Requirement already satisfied: tzdata>=2022.7 in /opt/anaconda3/lib/python3.12/site-packages (from pandas<3.0.0,>=2.2.3->river) (2023.3)\n",
      "Requirement already satisfied: six>=1.5 in /opt/anaconda3/lib/python3.12/site-packages (from python-dateutil>=2.8.2->pandas<3.0.0,>=2.2.3->river) (1.16.0)\n",
      "Downloading river-0.22.0-cp312-cp312-macosx_11_0_arm64.whl (2.5 MB)\n",
      "\u001b[2K   \u001b[90m━━━━━━━━━━━━━━━━━━━━━━━━━━━━━━━━━━━━━━━━\u001b[0m \u001b[32m2.5/2.5 MB\u001b[0m \u001b[31m12.3 MB/s\u001b[0m eta \u001b[36m0:00:00\u001b[0ma \u001b[36m0:00:01\u001b[0m\n",
      "\u001b[?25hDownloading pandas-2.2.3-cp312-cp312-macosx_11_0_arm64.whl (11.4 MB)\n",
      "\u001b[2K   \u001b[90m━━━━━━━━━━━━━━━━━━━━━━━━━━━━━━━━━━━━━━━━\u001b[0m \u001b[32m11.4/11.4 MB\u001b[0m \u001b[31m36.3 MB/s\u001b[0m eta \u001b[36m0:00:00\u001b[0m \u001b[36m0:00:01\u001b[0m\n",
      "\u001b[?25hDownloading scipy-1.15.3-cp312-cp312-macosx_14_0_arm64.whl (22.4 MB)\n",
      "\u001b[2K   \u001b[90m━━━━━━━━━━━━━━━━━━━━━━━━━━━━━━━━━━━━━━━━\u001b[0m \u001b[32m22.4/22.4 MB\u001b[0m \u001b[31m40.6 MB/s\u001b[0m eta \u001b[36m0:00:00\u001b[0ma \u001b[36m0:00:01\u001b[0m\n",
      "\u001b[?25hInstalling collected packages: scipy, pandas, river\n",
      "  Attempting uninstall: scipy\n",
      "    Found existing installation: scipy 1.13.1\n",
      "    Uninstalling scipy-1.13.1:\n",
      "      Successfully uninstalled scipy-1.13.1\n",
      "  Attempting uninstall: pandas\n",
      "    Found existing installation: pandas 2.2.2\n",
      "    Uninstalling pandas-2.2.2:\n",
      "      Successfully uninstalled pandas-2.2.2\n",
      "\u001b[31mERROR: pip's dependency resolver does not currently take into account all the packages that are installed. This behaviour is the source of the following dependency conflicts.\n",
      "gensim 4.3.3 requires scipy<1.14.0,>=1.7.0, but you have scipy 1.15.3 which is incompatible.\u001b[0m\u001b[31m\n",
      "\u001b[0mSuccessfully installed pandas-2.2.3 river-0.22.0 scipy-1.15.3\n"
     ]
    }
   ],
   "source": [
    "!pip install river"
   ]
  },
  {
   "cell_type": "code",
   "execution_count": null,
   "id": "b3d32420",
   "metadata": {},
   "outputs": [],
   "source": []
  }
 ],
 "metadata": {
  "kernelspec": {
   "display_name": "Python 3",
   "language": "python",
   "name": "python3"
  },
  "language_info": {
   "codemirror_mode": {
    "name": "ipython",
    "version": 3
   },
   "file_extension": ".py",
   "mimetype": "text/x-python",
   "name": "python",
   "nbconvert_exporter": "python",
   "pygments_lexer": "ipython3",
   "version": "3.12.7"
  }
 },
 "nbformat": 4,
 "nbformat_minor": 5
}
